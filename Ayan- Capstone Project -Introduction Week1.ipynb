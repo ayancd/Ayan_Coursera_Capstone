{
    "cells": [
        {
            "cell_type": "markdown",
            "metadata": {
                "collapsed": true
            },
            "source": "# The Battle of the Neighborhoods - Week 1\n\n## Introduction & Business Problem :\n\n### Back Ground - \n\n\n\nNew York is the most populous city in the United States. It is diverse, multicultural and is the financial capital of USA. . It is a global hub of business and commerce. The city is a major center for banking, finance, retailing, transportation, tourism, real estate,theater, fashion, and the arts in the USA.\n\nThis also means that the market is highly competitive and  also cost of doing business is also one of the highest. So any new business venture or expansion needs to be analysed carefully. The insights derived from analysis will give good understanding of the business environment to help in strategically targeting the market. Also will help in  risk reduction along with reasonable return of Interest.\n\n"
        },
        {
            "cell_type": "markdown",
            "metadata": {},
            "source": "# Description\n\n\n\nA restaurant is a business which prepares and serves food and drink to customers in return for money, either paid before the meal, after the meal, or with an open account. The City of New York is famous for its excelllent cuisine. It's food culture includes an array of international cuisines influenced by the city's immigrant history.\n\n    Central and Eastern European immigrants, especially Jewish immigrants - bagels, cheesecake, hot dogs, knishes, and delicatessens\n    Italian immigrants - New York-style pizza and Italian cuisine\n    Jewish immigrants and Irish immigrants - pastrami and corned beef\n    Chinese and other Asian restaurants, sandwich joints, trattorias, diners, and coffeehouses are ubiquitous throughout the city\n    mobile food vendors - Some 4,000 licensed by the city\n    Middle Eastern foods such as falafel and kebabs examples of modern New York street food\n    It is famous for not just Pizzerias, Cafe's but also for fine dining Michelin starred restaurants.The city is home to \"nearly one thousand of the finest and most diverse haute cuisine restaurants in the world\", according to Michelin.\n\nSo it is evident that to survive in such competitive market it is very important to startegically plan. Various factors need to be studied inorder to decide on the Location such as :\n\n    New York Population\n    New York City Demographics\n    Are there any Farmers Markets, Wholesale markets etc nearby so that the ingredients can be purchased fresh to maintain quality and cost?\n    Are there any venues like Gyms, Entertainmnet zones, Parks etc nearby where floating population is high etc\n    Who are the competitors in that location?\n    Cuisine served / Menu of the competitors\n    Segmentation of the Borough\n    Untapped markets\n    Saturated markets etc\n    The list can go on...\n\nEventhough well funded AYANC Company Ltd. need to choose the correct location to start its first venture.If this is successful they can replicate the same in other locations. First move is very important, thereby choice of location is very important.\n\nWe will be using Data Science to project the best location. We will be successful, if we can provide the best neighbourhood choice for AYANC company.\n"
        },
        {
            "cell_type": "code",
            "execution_count": null,
            "metadata": {},
            "outputs": [],
            "source": ""
        }
    ],
    "metadata": {
        "kernelspec": {
            "display_name": "Python 3.6",
            "language": "python",
            "name": "python3"
        },
        "language_info": {
            "codemirror_mode": {
                "name": "ipython",
                "version": 3
            },
            "file_extension": ".py",
            "mimetype": "text/x-python",
            "name": "python",
            "nbconvert_exporter": "python",
            "pygments_lexer": "ipython3",
            "version": "3.6.9"
        }
    },
    "nbformat": 4,
    "nbformat_minor": 1
}